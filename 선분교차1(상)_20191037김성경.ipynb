{
 "cells": [
  {
   "cell_type": "markdown",
   "id": "eeb34fc4",
   "metadata": {},
   "source": [
    "## 1주과제 - 선분교차(상)\n",
    "* `CCW알고리즘`을 이용하면 쉽게 풀 수 있지만 다르게 풀어봄.\n",
    "* 백준(https://www.acmicpc.net/problem/17386) 에서는 `메모리초과`로 실패.\n",
    "<br></br>\n",
    "* 제한)    \n",
    " -1,000,000 ≤ x1, y1, x2, y2, x3, y3, x4, y4 ≤ 1,000,000  \n",
    "x1, y1, x2, y2, x3, y3, x4, y4는 정수\n"
   ]
  },
  {
   "cell_type": "code",
   "execution_count": 66,
   "id": "2f7ca69f",
   "metadata": {},
   "outputs": [],
   "source": [
    "# 직선 사이에 있는 모든 점 리스트에 담아서 반환\n",
    "def between_list(slope, a, b, c, d):  #기울기 slope / 두점 (a,b), (c,d)\n",
    "    # 1) 두 점 대소비교 (x좌표기준)\n",
    "    if a > c:\n",
    "        firstX, firstY = c, d\n",
    "        secondX, secondY = a, b\n",
    "    else:\n",
    "        firstX, firstY = a, b\n",
    "        secondX, secondY = c, d\n",
    "    \n",
    "    # 2) 리스트에 추가 (기울기 양수 vs 음수)\n",
    "    list = []\n",
    "    if slope > 0:\n",
    "        for i in range(firstX, secondX+1):\n",
    "            for j in range(firstY, secondY+1):\n",
    "                list.append((i, j))\n",
    "    else:\n",
    "        for i in range(firstX, secondX+1):\n",
    "            for j in range(firstY, secondY-1, -1):\n",
    "                list.append((i, j))\n",
    "    \n",
    "    return list  "
   ]
  },
  {
   "cell_type": "code",
   "execution_count": 67,
   "id": "b3e4bca8",
   "metadata": {},
   "outputs": [],
   "source": [
    "# 교차점(intersection)이 있으면 1, 아니면 0 출력\n",
    "def print_is_intersection(x1, y1, x2, y2, x3, y3, x4, y4):\n",
    "    # L1: y = a1x + b1\n",
    "    a1 = (y2-y1) / (x2-x1)\n",
    "    b1 = y1 - a1*x1\n",
    "\n",
    "    # L2: y = a2x + b2\n",
    "    a2 = (y4-y3) / (x4-x3)\n",
    "    b2 = y3 - a2*x3\n",
    "\n",
    "    # 기울기가 같으면 평행하므로 두 직선의 교차점X.\n",
    "    if (a1 == a2):\n",
    "        print(\"0\")\n",
    "    else:\n",
    "        # 두 직선의 교점의 x좌표\n",
    "        point_x = - (b1-b2) / (a1-a2)\n",
    "\n",
    "        # point_x를 두 직선에 대입했을 때 나오는 point_y 값이 같으면 교차점 존재함.\n",
    "        point_y1 = a1*point_x + b1\n",
    "        point_y2 = a2*point_x + b2\n",
    "\n",
    "        if point_y1 != point_y2: \n",
    "            print(\"0\")\n",
    "        else:\n",
    "            between_L1 = between_list(a1, x1, y1, x2, y2)\n",
    "            between_L2 = between_list(a2, x3, y3, x4, y4)\n",
    "\n",
    "            point = (point_x, point_y1)\n",
    "            if point not in between_L1 or point not in between_L2:\n",
    "                print(\"0\")\n",
    "            else:\n",
    "                print(\"1\")"
   ]
  },
  {
   "cell_type": "code",
   "execution_count": 68,
   "id": "fb7ab9ea",
   "metadata": {},
   "outputs": [],
   "source": [
    "def main():\n",
    "    x1, y1, x2, y2 = map(int, input().split())\n",
    "    x3, y3, x4, y4 = map(int, input().split())\n",
    "    \n",
    "    print_is_intersection(x1, y1, x2, y2, x3, y3, x4, y4)"
   ]
  },
  {
   "cell_type": "code",
   "execution_count": 69,
   "id": "2705b36f",
   "metadata": {},
   "outputs": [
    {
     "name": "stdout",
     "output_type": "stream",
     "text": [
      "1 1 5 5\n",
      "1 5 5 1\n",
      "1\n"
     ]
    }
   ],
   "source": [
    "main()"
   ]
  },
  {
   "cell_type": "code",
   "execution_count": 70,
   "id": "d0a3e104",
   "metadata": {},
   "outputs": [
    {
     "name": "stdout",
     "output_type": "stream",
     "text": [
      "1 1 5 5\n",
      "6 10 10 6\n",
      "0\n"
     ]
    }
   ],
   "source": [
    "main()"
   ]
  },
  {
   "cell_type": "code",
   "execution_count": null,
   "id": "3770e58c",
   "metadata": {},
   "outputs": [],
   "source": []
  }
 ],
 "metadata": {
  "kernelspec": {
   "display_name": "Python 3",
   "language": "python",
   "name": "python3"
  },
  "language_info": {
   "codemirror_mode": {
    "name": "ipython",
    "version": 3
   },
   "file_extension": ".py",
   "mimetype": "text/x-python",
   "name": "python",
   "nbconvert_exporter": "python",
   "pygments_lexer": "ipython3",
   "version": "3.8.8"
  }
 },
 "nbformat": 4,
 "nbformat_minor": 5
}
